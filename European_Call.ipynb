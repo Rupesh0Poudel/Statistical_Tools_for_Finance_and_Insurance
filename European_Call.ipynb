{
  "nbformat": 4,
  "nbformat_minor": 0,
  "metadata": {
    "colab": {
      "name": "European Call.ipynb",
      "provenance": [],
      "authorship_tag": "ABX9TyOiQ36LgaA8XsSZ3T+2/5uI",
      "include_colab_link": true
    },
    "kernelspec": {
      "name": "python3",
      "display_name": "Python 3"
    },
    "language_info": {
      "name": "python"
    }
  },
  "cells": [
    {
      "cell_type": "markdown",
      "metadata": {
        "id": "view-in-github",
        "colab_type": "text"
      },
      "source": [
        "<a href=\"https://colab.research.google.com/github/Rupesh0Poudel/Statistical_Tools_for_Finance_and_Insurance/blob/main/European_Call.ipynb\" target=\"_parent\"><img src=\"https://colab.research.google.com/assets/colab-badge.svg\" alt=\"Open In Colab\"/></a>"
      ]
    },
    {
      "cell_type": "markdown",
      "source": [
        "The code is based on an improvement of the pseudocode written in the book \"Implementing Derivative Models\" by Les Clelow and Chris Strickland. This code is improved version which switches from a double loop to a matrix, thereby improving on the computational time. The improvement is carried out by ASXoptions.com. The code below is a slight modification of that improvement .  "
      ],
      "metadata": {
        "id": "M8vxVKuPm0q8"
      }
    },
    {
      "cell_type": "code",
      "source": [
        "# Import dependencies\n",
        "import math\n",
        "import numpy as np\n",
        "import pandas as pd\n",
        "import datetime\n",
        "import scipy.stats as stats\n",
        "import matplotlib.pyplot as plt"
      ],
      "metadata": {
        "id": "DptDSRk8p83G"
      },
      "execution_count": 1,
      "outputs": []
    },
    {
      "cell_type": "code",
      "execution_count": 2,
      "metadata": {
        "colab": {
          "base_uri": "https://localhost:8080/"
        },
        "id": "4ZosqDZGlh6N",
        "outputId": "4a76d287-a4a2-4dd8-89c6-ccf0cc08a919"
      },
      "outputs": [
        {
          "output_type": "stream",
          "name": "stdout",
          "text": [
            "0.1643835616438356\n"
          ]
        }
      ],
      "source": [
        "# initial derivative parameters \n",
        "S = 101.15          #stock price\n",
        "K = 98.01           #strike price\n",
        "vol = 0.0991        #volatility (%)\n",
        "r = 0.015            #risk-free rate (%)\n",
        "N = 10              #number of time steps\n",
        "M = 1000            #number of simulations\n",
        "\n",
        "market_value = 3.86 #market price of option\n",
        "T = ((datetime.date(2022,3,17)-datetime.date(2022,1,17)).days+1)/365    #time in years\n",
        "print(T)"
      ]
    },
    {
      "cell_type": "code",
      "source": [
        "#precompute constants\n",
        "N = 252\n",
        "dt = T/N\n",
        "nudt = (r - 0.5*vol**2)*dt\n",
        "volsdt = vol*np.sqrt(dt)\n",
        "lnS = np.log(S)\n",
        "\n",
        "# Monte Carlo Method\n",
        "Z = np.random.normal(size=(N, M)) \n",
        "delta_lnSt1 = nudt + volsdt*Z \n",
        "delta_lnSt2 = nudt - volsdt*Z \n",
        "lnSt1 = lnS + np.cumsum(delta_lnSt1, axis=0)\n",
        "lnSt2 = lnS + np.cumsum(delta_lnSt2, axis=0)\n",
        "\n",
        "# Compute Expectation and SE\n",
        "ST1 = np.exp(lnSt1)\n",
        "ST2 = np.exp(lnSt2)\n",
        "CT = 0.5 * ( np.maximum(0, ST1[-1] - K) + np.maximum(0, ST2[-1] - K) )\n",
        "C0 = np.exp(-r*T)*np.sum(CT)/M\n",
        "\n",
        "sigma = np.sqrt( np.sum( (CT - C0)**2) / (M-1) )\n",
        "SE = sigma/np.sqrt(M)\n",
        "\n",
        "print(\"Call value is ${0} with SE +/- {1}\".format(np.round(C0,2),np.round(SE,2)))"
      ],
      "metadata": {
        "colab": {
          "base_uri": "https://localhost:8080/"
        },
        "id": "MHBLnUYsmrEG",
        "outputId": "3e707b9d-ed4a-487b-e347-46d092df7e4c"
      },
      "execution_count": 3,
      "outputs": [
        {
          "output_type": "stream",
          "name": "stdout",
          "text": [
            "Call value is $3.79 with SE +/- 0.03\n"
          ]
        }
      ]
    },
    {
      "cell_type": "code",
      "source": [
        "x1 = np.linspace(C0-3*SE, C0-1*SE, 100)\n",
        "x2 = np.linspace(C0-1*SE, C0+1*SE, 100)\n",
        "x3 = np.linspace(C0+1*SE, C0+3*SE, 100)\n",
        "#xw = np.linspace(C0w-3*SE, C0w+3*SEw, 100)\n",
        "\n",
        "s1 = stats.norm.pdf(x1, C0, SE)\n",
        "s2 = stats.norm.pdf(x2, C0, SE)\n",
        "s3 = stats.norm.pdf(x3, C0, SE)\n",
        "#sw = stats.norm.pdf(xw, C0w, SEw)\n",
        "\n",
        "plt.fill_between(x1, s1, color='tab:blue',label='> StDev')\n",
        "plt.fill_between(x2, s2, color='cornflowerblue',label='1 StDev')\n",
        "plt.fill_between(x3, s3, color='tab:blue')\n",
        "#plt.plot(xw, sw, 'g-')\n",
        "#plt.fill_between(xw, sw, alpha=0.2, color='tab:green', label='w/o Antithetic')\n",
        "\n",
        "plt.plot([C0,C0],[0, max(s2)*1.1], 'k', label='Theoretical Value')\n",
        "#plt.plot([C0w,C0w],[0, max(s2)*1.1], color='tab:dark-green', label='Value w/o Antithetic')\n",
        "plt.plot([market_value,market_value],[0, max(s2)*1.1], 'r', label='Market Value')\n",
        "\n",
        "plt.ylabel(\"Probability\")\n",
        "plt.xlabel(\"Option Price\")\n",
        "plt.legend()\n",
        "plt.show()"
      ],
      "metadata": {
        "colab": {
          "base_uri": "https://localhost:8080/",
          "height": 279
        },
        "id": "y03KVvqlqbF7",
        "outputId": "98504c0c-eb9a-4650-b19b-612c324ad209"
      },
      "execution_count": 8,
      "outputs": [
        {
          "output_type": "display_data",
          "data": {
            "image/png": "[encoded data removed]",
            "text/plain": [
              "<Figure size 432x288 with 1 Axes>"
            ]
          },
          "metadata": {
            "needs_background": "light"
          }
        }
      ]
    },
    {
      "cell_type": "code",
      "source": [
        ""
      ],
      "metadata": {
        "id": "oT2NyFmQmwMp"
      },
      "execution_count": null,
      "outputs": []
    }
  ]
}